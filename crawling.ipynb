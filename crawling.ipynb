{
 "cells": [
  {
   "cell_type": "markdown",
   "metadata": {},
   "source": [
    "# M Zidane Ramadhan\n",
    "# 162112133046"
   ]
  },
  {
   "cell_type": "markdown",
   "metadata": {},
   "source": [
    "# Nomor 1"
   ]
  },
  {
   "cell_type": "code",
   "execution_count": 2,
   "metadata": {},
   "outputs": [
    {
     "name": "stdout",
     "output_type": "stream",
     "text": [
      "Websvaganza 2023 Hadirkan Bazar Kosmetik untuk Dorong Kepercayaan Diri dan Hilangkan Insecure\n",
      "Mahasiswa UNAIR Sabet Juara 1 Kategori Lomba Infografis KOMINFO Jawa Timur\n",
      "Pentingnya Mengenal Potensi Diri Melalui Pemahaman Emosional\n",
      "Dukung Pendidikan Merata UNAIR Berikan Beasiswa Siswa Sekolah Dasar\n",
      "Apa Sih UKM Wanala ?\n",
      "Mahasiswa UNAIR Sabet Juara 1 Kategori Lomba Infografis KOMINFO Jawa Timur\n",
      "Foto: Kunjungan MWA Universitas Pendidikan Indonesia\n",
      "Konversi Gas Karbon Dioksida Menjadi Asam Asetat: Solusi Pemanfaatan Gas Rumah Kaca\n",
      "Meningkatkan Kemampuan CZTS sebagai Bahan Sel Surya\n",
      "Efektivitas dan Tantangan Pengajaran Online dalam Krisis COVID-19\n",
      "Mahasiswa UNAIR Sabet Juara 1 Kategori Lomba Infografis KOMINFO Jawa Timur\n"
     ]
    }
   ],
   "source": [
    "import requests\n",
    "from bs4 import BeautifulSoup\n",
    "from datetime import datetime\n",
    "\n",
    "# URL halaman web\n",
    "url = 'https://unair.ac.id/news'\n",
    "\n",
    "# Mengirim permintaan HTTP ke URL\n",
    "response = requests.get(url)\n",
    "\n",
    "soup = BeautifulSoup(response.text, 'html.parser')\n",
    "\n",
    "# Ambil tanggal sekarang\n",
    "current_date = datetime.now().strftime(\"%d/%m/%Y\")\n",
    "\n",
    "# Cari semua elemen dengan class 'elementor-post__text'\n",
    "for post in soup.find_all(class_='elementor-post__text'):\n",
    "    # Ambil tanggal dari elemen tersebut\n",
    "    post_date_elem = post.find(class_='elementor-post-date')\n",
    "    # Jika elemen ditemukan, ambil teksnya\n",
    "    if post_date_elem is not None:\n",
    "        post_date = post_date_elem.text.strip()\n",
    "        # Jika tanggal sama dengan tanggal sekarang, ambil judulnya\n",
    "        if post_date == current_date:\n",
    "            title = post.find(class_='elementor-post__title').text.strip()\n",
    "            print(title)\n"
   ]
  },
  {
   "cell_type": "markdown",
   "metadata": {},
   "source": [
    "Kodingan di atas akan mengekstrak dan mencetak judul-judul berita dari halaman web Universitas Airlangga (UNAIR) yang diambil dari URL 'https://unair.ac.id/news'. Di mana kita membutuhkan beberapa library seperti requests untuk mengirim permintaan HTTP ke URL, BeautifulSoup untuk melakukan analisis parsing HTML, dan datetime untuk mengambil tanggal saat ini. Dari output di atas akan menampilkan judul berita dari web UNAIR yang memiliki tanggal yang sama dengan tanggal saat ini."
   ]
  },
  {
   "cell_type": "markdown",
   "metadata": {},
   "source": [
    "# Nomor 2"
   ]
  },
  {
   "cell_type": "code",
   "execution_count": 10,
   "metadata": {},
   "outputs": [
    {
     "name": "stdout",
     "output_type": "stream",
     "text": [
      "Dr Andriyanto, Alumnus UNAIR yang Dilantik Menjadi Pj Bupati Pasuruan\n",
      "UNAIR Raih 4,5 Trees Rating pada UI GreenMetric World University Ranking\n",
      "Pakar Politik UNAIR Sebut Pengusungan Gibran Jadi Strategi Jangka Panjang\n",
      "Berkomitmen Tingkatkan Transparansi Informasi, UNAIR Gabung JDIH\n",
      "Komitmen Tingkatkan Kualitas Pendidikan, Rektor UNAIR Kukuhkan Enam Guru Besar\n",
      "Tambah Lagi, UNAIR Kini Miliki 11 Jurnal Ilmiah Terindeks Scopus\n",
      "UNAIR Raih Anugerah Jatim Bangkit Awards Berkat Sukseskan Pemulihan Pandemi\n",
      "Kukuhkan Tujuh Guru Besar, Rektor UNAIR Ajak Akademisi Tingkatkan Daya Kritis\n",
      "Beri Kuliah Tamu di UNAIR, Mahfud MD Tekankan Pentingnya Politik Kebangsaan\n",
      "UNAIR Anugerahi Khofifah Gelar Doktor Honoris Causa\n",
      "UNAIR Luluskan 1.382 Wisudawan, Rektor: Anda Orang-Orang Terpilih\n",
      "Rektor Beri Pesan Gubes untuk Bumikan Ilmu Pengetahuan\n",
      "UNAIR Bagikan 1974 Sertifikat Halal Gratis untuk UMKM\n",
      "Kukuhkan Tujuh Guru Besar, Rektor UNAIR Tekankan Kerja Sama Riset Internasional\n",
      "UNAIR Tingkatkan Kontribusi dengan Tambah 7 Guru Besar Baru\n",
      "UNAIR Duduki Peringkat Kedua Nasional Versi THE WUR\n",
      "Dukung Merdeka Belajar, UNAIR Berikan Ruang Eksplorasi Bagi Mahasiswa\n",
      "Pengukuhan Gubes Wujudkan UNAIR Jadi SMART University\n",
      "Jadi Tuan Rumah The 6th ASEAN+3 Rector’s Conference, UNAIR Tekankan Pentingnya Kolaborasi\n",
      "Intip Kisah Guru Besar UNAIR yang 18 Tahun Mengabdi Jadi Dokter Forensik\n",
      "Kukuhkan Gubes, Rektor: Semoga Target Segera Tercapai\n",
      "Singkirkan Puluhan Peserta, Mahasiswa UNAIR Bawa Pulang Medali Emas\n",
      "Jadi Pionir, FKH UNAIR Adakan Program MBKM di 10 Wilayah Jatim\n",
      "Resmi! UNAIR Bakal Miliki Plaza Airlangga\n",
      "Menkes Luncurkan Permenkes Rumah Sakit Kapal, Berobat di RSTKA Kini Bisa Pakai BPJS\n",
      "Pengukuhan Guru Besar Jadi Tambahan Energi bagi UNAIR\n",
      "Kukuhkan Empat Guru Besar FK, Rektor UNAIR Tekankan Kecintaan pada Ilmu\n",
      "Masuk Deretan Top 100 Peneliti Indonesia, Wakil Rektor UNAIR Bagikan Tips bagi Peneliti Pemula\n",
      "UNAIR Siap Tingkatkan Kontribusi dengan 12 Guru Besar Baru\n",
      "UNAIR Sambut Kedatangan 390 Peserta Pertukaran Mahasiswa Merdeka\n",
      "Janis Rosalita, Alumnus UNAIR jadi Atlet Terbaik Putri SIWO 2023\n",
      "Rektor UNAIR Beri Tanggapan Kebijakan Baru Penghapusan Skripsi\n",
      "IKA UNAIR Wilayah Inggris Gelar Silaturahmi dan Konsolidasi Alumni\n",
      "Produk Penurun Glukosa dalam Darah Gubes UNAIR Tembus Pameran Internasional di Pakistan\n",
      "Mahasiswa UNAIR Ciptakan Alat Deteksi Stress pada E-Sport\n",
      "Tanam Jahe dan Sereh untuk Tingkatkan Kesehatan Warga Flat Kenari\n"
     ]
    }
   ],
   "source": [
    "import requests\n",
    "from bs4 import BeautifulSoup\n",
    "\n",
    "# Fungsi untuk mengambil judul berita dari halaman tertentu\n",
    "def scrape_page(url):\n",
    "    response = requests.get(url)\n",
    "    if response.status_code == 200:\n",
    "        page_content = response.text\n",
    "        soup = BeautifulSoup(page_content, 'html.parser')\n",
    "        news_elements = soup.find_all('h3', class_='elementor-post__title')\n",
    "        for news in news_elements:\n",
    "            title = news.text.strip()\n",
    "            print(title)\n",
    "    else:\n",
    "        print(f\"Gagal mengambil halaman: {url}\")\n",
    "\n",
    "# URL awal untuk halaman \"Featured\"\n",
    "base_url = \"https://unair.ac.id/category/featured/\"\n",
    "\n",
    "# Input jumlah halaman yang akan di-scrape\n",
    "total_pages = int(input(\"Masukkan jumlah halaman yang akan di-scrape: \"))\n",
    "\n",
    "for current_page in range(1, total_pages + 1):\n",
    "    page_url = f\"{base_url}page/{current_page}/\"\n",
    "    scrape_page(page_url)\n"
   ]
  },
  {
   "cell_type": "markdown",
   "metadata": {},
   "source": [
    "Kodingan di atas akan mengekstrak dan mencetak judul berita dari halaman web Universitas Airlangga (UNAIR) yang termasuk dalam kategori \"Featured\" terdiri dari beberapa halaman. Nantinya, pengguna akan memasukkan jumlah halaman yang akan di-scrape, dan kemudian mengambil judul-judul berita dari setiap halaman. Sama seperti sebelumnya library yang digunakan yaitu requests dan BeautifulSoup."
   ]
  }
 ],
 "metadata": {
  "kernelspec": {
   "display_name": "Python 3",
   "language": "python",
   "name": "python3"
  },
  "language_info": {
   "codemirror_mode": {
    "name": "ipython",
    "version": 3
   },
   "file_extension": ".py",
   "mimetype": "text/x-python",
   "name": "python",
   "nbconvert_exporter": "python",
   "pygments_lexer": "ipython3",
   "version": "3.9.13"
  }
 },
 "nbformat": 4,
 "nbformat_minor": 2
}
